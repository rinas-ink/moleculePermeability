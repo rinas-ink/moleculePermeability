{
 "cells": [
  {
   "cell_type": "code",
   "execution_count": 1,
   "metadata": {},
   "outputs": [
    {
     "name": "stdout",
     "output_type": "stream",
     "text": [
      "cuda\n"
     ]
    }
   ],
   "source": [
    "from s4dd import S4forDenovoDesign\n",
    "import torch\n",
    "device = torch.device(\"cuda\") if torch.cuda.is_available() else 'cpu'\n",
    "print(device)\n"
   ]
  },
  {
   "cell_type": "code",
   "execution_count": 2,
   "metadata": {},
   "outputs": [
    {
     "name": "stderr",
     "output_type": "stream",
     "text": [
      "100%|██████████| 782/782 [02:01<00:00,  6.45it/s]\n"
     ]
    },
    {
     "name": "stdout",
     "output_type": "stream",
     "text": [
      "Epoch:0\tLoss: 0.5900923684048835, Val Loss: 0.4607980233770262\n"
     ]
    },
    {
     "data": {
      "text/plain": [
       "{'train_loss': [0.5900923684048835], 'val_loss': [0.4607980233770262]}"
      ]
     },
     "execution_count": 2,
     "metadata": {},
     "output_type": "execute_result"
    }
   ],
   "source": [
    "\n",
    "# Create an S4 model with (almost) the same parameters in the paper.\n",
    "s4 = S4forDenovoDesign(\n",
    "    n_max_epochs=1,  # This is for only demonstration purposes. Set this to a (much) higher value for actual training. Default: 400.\n",
    "    batch_size=64,  # This is also for demonstration purposes. The value in the paper is 2048.\n",
    "    device=device,  # Replace this with \"cpu\" if you didn't install pytorch with CUDA support.\n",
    ")\n",
    "# Pretrain the model on ChEMBL\n",
    "s4.train(\n",
    "    training_molecules_path=\"./datasets/chemblv31/mini_train.zip\",  # This a 50K subsample of the ChEMBL training set for quick(er) testing.\n",
    "    val_molecules_path=\"./datasets/chemblv31/valid.zip\",\n",
    ")\n"
   ]
  },
  {
   "cell_type": "code",
   "execution_count": 3,
   "metadata": {},
   "outputs": [
    {
     "name": "stderr",
     "output_type": "stream",
     "text": [
      "100%|██████████| 7/7 [00:01<00:00,  6.42it/s]\n"
     ]
    },
    {
     "name": "stdout",
     "output_type": "stream",
     "text": [
      "Epoch:0\tLoss: 0.45284183962004526, Val Loss: 0.3751584589481354\n"
     ]
    },
    {
     "data": {
      "text/plain": [
       "{'train_loss': [0.45284183962004526], 'val_loss': [0.3751584589481354]}"
      ]
     },
     "execution_count": 3,
     "metadata": {},
     "output_type": "execute_result"
    }
   ],
   "source": [
    "# Fine-tune the model on bioactive molecules for PKM2\n",
    "s4.train(\n",
    "    training_molecules_path=\"./datasets/pkm2/train.zip\",\n",
    "    val_molecules_path=\"./datasets/pkm2/valid.zip\",\n",
    ")\n"
   ]
  },
  {
   "cell_type": "code",
   "execution_count": 4,
   "metadata": {},
   "outputs": [],
   "source": [
    "# Design new molecules\n",
    "designs, lls = s4.design_molecules(n_designs=32, batch_size=16, temperature=1.0)"
   ]
  },
  {
   "cell_type": "code",
   "execution_count": 5,
   "metadata": {},
   "outputs": [
    {
     "data": {
      "text/plain": [
       "['O=C(c1cccc(CNC(=O)Nc2ccccc2)o1',\n",
       " 'COc1ccc(CSc1ccc2c(CNC(=O)CC(C)(C(=O)N2CCN(CCCN3CCCC2=O)c2=O)cc1',\n",
       " 'CN1CCN(S(=O)(=O)Nc2ccco2)cc1',\n",
       " 'Cc1ccc(S(=O)(=O)N)cc1)c1cc(C(=O)c2ccncc12',\n",
       " 'N#Cc1nn2ncnn1C)c1nc2ccccc2no1',\n",
       " 'CSc1nnc(C2(C)c1NS(=O)(=O)c1cccc(F)cc2)nc1',\n",
       " 'COc1ccc(C[N+](=O)[O-])c1CCN(CC(=O)c1ccccc1C',\n",
       " 'CCc1c(Cl)c2c([N+](C)(C)c1C(=O)NCc1ccccc1',\n",
       " 'Oc1ccc(C=NNS(=O)(=O)c2ccc(S(=O)(=O)N(Cc2ncccc2)c1',\n",
       " 'COC(=O)c1ccc2c(c1)Oc1ccc(C=Cc1ccncc1)c1ccc(F)cc1',\n",
       " 'COc1cccc(S(=O)(=O)N2CCOc2ccccc3c(=O)c2C)o1',\n",
       " 'c1nonn2SCC3(c1nc(SCC)c3ccc(OCCCC)oc21',\n",
       " 'COc1ccnc2c1c(=O)n2c(C)ncc3c(n1',\n",
       " 'COc1ccc(S(=O)(=O)N2CCN(C(=O)c2ccc(NC(=O)N(CC(=O)NC)ccc12',\n",
       " 'CCSc1nn(Cc2ccc(S(=O)(=O)F)cc1',\n",
       " 'Cc1ccccc1NS(=O)(=O)c1ccc(Cl)cc1',\n",
       " 'Cc1ccc(S(=O)(=O)c2ccccc2)o1',\n",
       " 'Cc1ccc(S(=O)(=O)N1CCC23CCCC2CC2)n1',\n",
       " 'CCOc1ccc2C(C(=O)Nc1ccc([N+](=O)[O-])c1',\n",
       " 'Cc1ccc(Cc2cc(C2=C(NC(=O)c1ccc(NC)c1)C(O)(c1)c(=O)o1',\n",
       " 'COc1ccc(C(=O)NS(=O)(=O)c2ccc3c(C(=O)Nc2ccccc2Cl)cc1',\n",
       " 'Cc1ccc(CSc1nnn2CCOC1CS(=O)(=O)c2ccccc2)c1',\n",
       " 'COc1cc2c(c1)OCC(=O)Nc1[nH]c(C(=O)O)cc1',\n",
       " 'COc1ccc(S(=O)(=O)N2CCN(C(=O)c2ccc(-n3ccccc2)n[nH]c2c1',\n",
       " 'CCSc1ccc(COc1ccc(C(=O)NNCCOc2ccccc2Cl)c(=O)n(CC)c1',\n",
       " 'NS(=O)(=O)c1ccccc1)N1CCOC(=O)c1cccs1',\n",
       " 'COc1cc(C(=O)N2CCN(C(=O)c2ccc(Cc3ccccc3)CC2)n1',\n",
       " 'COc1cc(F)c(Br)c1S(=O)(=O)Nc2ccccc2c1',\n",
       " 'CSc1nc(-c23ccccc3nocnc21',\n",
       " 'COc1cccc(CSc1=O)sc2c(Scn2[nH]c(=O)[nH]n1C',\n",
       " 'Nc1c(SCc2cc(CS(=O)(=O)c2ccccn2)CN2CCN(C(=O)c2ccccn2)cc1',\n",
       " 'O=c1oc(NC(=O)c1ccc(C(=O)NCCc2ccccc2)c1']"
      ]
     },
     "execution_count": 5,
     "metadata": {},
     "output_type": "execute_result"
    }
   ],
   "source": [
    "designs"
   ]
  },
  {
   "cell_type": "code",
   "execution_count": 7,
   "metadata": {},
   "outputs": [
    {
     "data": {
      "text/plain": [
       "32"
      ]
     },
     "execution_count": 7,
     "metadata": {},
     "output_type": "execute_result"
    }
   ],
   "source": [
    "len(designs)"
   ]
  },
  {
   "cell_type": "code",
   "execution_count": 6,
   "metadata": {},
   "outputs": [
    {
     "data": {
      "text/plain": [
       "[-0.5611103674548148,\n",
       " -0.8342084684368012,\n",
       " -0.509624955108583,\n",
       " -0.8085676003507126,\n",
       " -1.2420427195273775,\n",
       " -0.828296768052326,\n",
       " -0.672862124495985,\n",
       " -0.8720166819088213,\n",
       " -0.6371822301915416,\n",
       " -0.6862884598765752,\n",
       " -0.6628748380436041,\n",
       " -1.7075688785958867,\n",
       " -1.1411158117279843,\n",
       " -0.6137186634436909,\n",
       " -0.8762567389095735,\n",
       " -0.3722511489711929,\n",
       " -0.3624927165616213,\n",
       " -0.7695154276973861,\n",
       " -0.7061847419979134,\n",
       " -1.1477409358258166,\n",
       " -0.4657707691095364,\n",
       " -0.7432080386922458,\n",
       " -0.7453101329787115,\n",
       " -0.5484992251830975,\n",
       " -0.8210023049486206,\n",
       " -0.5624696326567653,\n",
       " -0.536329639943703,\n",
       " -0.704730388319334,\n",
       " -1.3122901610064628,\n",
       " -1.187093605413841,\n",
       " -0.8356709592856877,\n",
       " -0.6879055349116143]"
      ]
     },
     "execution_count": 6,
     "metadata": {},
     "output_type": "execute_result"
    }
   ],
   "source": [
    "lls"
   ]
  },
  {
   "cell_type": "code",
   "execution_count": null,
   "metadata": {},
   "outputs": [],
   "source": []
  }
 ],
 "metadata": {
  "kernelspec": {
   "display_name": "Python 3",
   "language": "python",
   "name": "python3"
  },
  "language_info": {
   "codemirror_mode": {
    "name": "ipython",
    "version": 3
   },
   "file_extension": ".py",
   "mimetype": "text/x-python",
   "name": "python",
   "nbconvert_exporter": "python",
   "pygments_lexer": "ipython3",
   "version": "3.10.13"
  }
 },
 "nbformat": 4,
 "nbformat_minor": 2
}
