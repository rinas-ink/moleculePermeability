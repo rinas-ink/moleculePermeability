{
 "cells": [
  {
   "cell_type": "code",
   "execution_count": 77,
   "metadata": {},
   "outputs": [],
   "source": [
    "import pandas as pd\n",
    "import numpy as np\n",
    "import matplotlib.pyplot as plt"
   ]
  },
  {
   "cell_type": "code",
   "execution_count": 78,
   "metadata": {},
   "outputs": [
    {
     "data": {
      "text/plain": [
       "(209, 200)"
      ]
     },
     "metadata": {},
     "output_type": "display_data"
    },
    {
     "data": {
      "text/plain": [
       "(209,)"
      ]
     },
     "metadata": {},
     "output_type": "display_data"
    }
   ],
   "source": [
    "from sklearn.preprocessing import StandardScaler\n",
    "from sklearn.model_selection import train_test_split\n",
    "\n",
    "molecules = pd.read_csv('molecules_dataset_cleared.csv')\n",
    "X = molecules.drop(columns=['id', 'SMILES', 'SELFIES', 'ACCUMULATION'])\n",
    "Y = (molecules['ACCUMULATION'] > 500).astype(int)\n",
    "\n",
    "display(X.shape)\n",
    "display(Y.shape)\n",
    "X_train, X_test, Y_train, Y_test = train_test_split(X, Y, test_size=0.3, random_state=91)\n",
    "scaler = StandardScaler()\n",
    "X_train_scaled = scaler.fit_transform(X_train)\n",
    "X_test_scaled = scaler.transform(X_test)"
   ]
  },
  {
   "cell_type": "code",
   "execution_count": 79,
   "metadata": {},
   "outputs": [],
   "source": [
    "def my_grid_search(model, param_grid, X_train, Y_train, X_test, Y_test):\n",
    "    grid_search = GridSearchCV(estimator=model, param_grid=param_grid, cv=5, n_jobs=-1, scoring='accuracy')\n",
    "    grid_search.fit(X_train, Y_train)\n",
    "    print(grid_search.best_params_)\n",
    "    print(f'Train best accuracy: {grid_search.best_score_}')\n",
    "    best_model = grid_search.best_estimator_\n",
    "    print(f'Test accuracy: {best_model.score(X_test, Y_test)}')\n",
    "    return grid_search"
   ]
  },
  {
   "cell_type": "code",
   "execution_count": 80,
   "metadata": {},
   "outputs": [],
   "source": [
    "def important_features(weights, ft_names, percentage=0.9):\n",
    "    non_zero_weights = [[ft_names[i], weights[i]] for i in range(len(weights)) if weights[i] != 0]\n",
    "    total_weight = sum([abs(w[1]) for w in non_zero_weights])\n",
    "    non_zero_weights.sort(key=lambda x: abs(x[1]), reverse=True)\n",
    "    cur_sum = 0\n",
    "    important_weights = []\n",
    "    for w in non_zero_weights:\n",
    "        cur_sum += abs(w[1])\n",
    "        important_weights.append(w)\n",
    "        if cur_sum >= percentage * total_weight:\n",
    "            break\n",
    "    return np.array(important_weights)"
   ]
  },
  {
   "cell_type": "code",
   "execution_count": 81,
   "metadata": {},
   "outputs": [
    {
     "name": "stdout",
     "output_type": "stream",
     "text": [
      "{'C': 1.1, 'penalty': 'l1'}\n",
      "Train best accuracy: 0.9045977011494253\n",
      "Test accuracy: 0.8571428571428571\n"
     ]
    },
    {
     "data": {
      "text/plain": [
       "array([['VSA_EState4', '2.2535036019586356'],\n",
       "       ['VSA_EState9', '-1.4447658910488197'],\n",
       "       ['FpDensityMorgan3', '1.2588555230425356'],\n",
       "       ['fr_ArN', '-1.0828168343558597'],\n",
       "       ['fr_priamide', '0.8984501508360028'],\n",
       "       ['VSA_EState7', '-0.7643728364633066'],\n",
       "       ['SMR_VSA4', '0.7499847278331874'],\n",
       "       ['fr_Ar_COO', '0.7230455158496419'],\n",
       "       ['fr_quatN', '0.6817966085855136'],\n",
       "       ['fr_ketone_Topliss', '0.6406771376614622'],\n",
       "       ['fr_azide', '-0.5235310251807097'],\n",
       "       ['fr_NH2', '-0.5146193941735004'],\n",
       "       ['fr_halogen', '0.440603161824641'],\n",
       "       ['SMR_VSA3', '-0.38648142661498397'],\n",
       "       ['MaxEStateIndex', '-0.3703890737778695'],\n",
       "       ['MaxAbsEStateIndex', '-0.35009096150497054']], dtype='<U32')"
      ]
     },
     "execution_count": 81,
     "metadata": {},
     "output_type": "execute_result"
    }
   ],
   "source": [
    "from sklearn.linear_model import LogisticRegression\n",
    "\n",
    "liblinear_param_grid = {\n",
    "    'penalty': ['l1', 'l2'],\n",
    "    'C': np.linspace(0.1, 10, 100)\n",
    " }\n",
    "param_grid = [liblinear_param_grid]\n",
    "logistic_model = LogisticRegression(solver='liblinear')\n",
    "logistic_grid_search = my_grid_search(logistic_model, param_grid, X_train_scaled, Y_train, X_test_scaled, Y_test)\n",
    "logistic_important_weights = important_features(logistic_grid_search.best_estimator_.coef_[0], X.columns, percentage=0.8)\n",
    "logistic_important_weights"
   ]
  },
  {
   "cell_type": "code",
   "execution_count": 82,
   "metadata": {},
   "outputs": [
    {
     "name": "stdout",
     "output_type": "stream",
     "text": [
      "{'C': 0.21181818181818182}\n",
      "Train best accuracy: 0.8705747126436781\n",
      "Test accuracy: 0.8253968253968254\n"
     ]
    },
    {
     "data": {
      "text/plain": [
       "array([['VSA_EState4', '0.7281063564082672'],\n",
       "       ['fr_priamide', '0.4475309231101362'],\n",
       "       ['FpDensityMorgan3', '0.4140222742470805'],\n",
       "       ['fr_NH2', '-0.39657926023353446'],\n",
       "       ['NHOHCount', '0.3817726118682672'],\n",
       "       ['fr_methoxy', '-0.33736697532042315'],\n",
       "       ['fr_Ar_COO', '0.3308838688346146'],\n",
       "       ['fr_quatN', '0.3234623269819204'],\n",
       "       ['fr_ArN', '-0.3215890915166289'],\n",
       "       ['FpDensityMorgan2', '0.3059444107535859'],\n",
       "       ['MaxAbsEStateIndex', '-0.2941092114117026'],\n",
       "       ['MaxEStateIndex', '-0.2941092114117026'],\n",
       "       ['VSA_EState7', '-0.26288676433147'],\n",
       "       ['PEOE_VSA8', '-0.2610344158832685'],\n",
       "       ['FractionCSP3', '-0.25614017515840865'],\n",
       "       ['SMR_VSA4', '0.23882699071440844'],\n",
       "       ['SlogP_VSA8', '0.23486510391883467'],\n",
       "       ['fr_piperzine', '0.23478121852654862'],\n",
       "       ['NumSaturatedHeterocycles', '-0.22568544818583716'],\n",
       "       ['fr_allylic_oxid', '-0.22166927012909154'],\n",
       "       ['VSA_EState9', '-0.22032209461772015'],\n",
       "       ['VSA_EState3', '-0.21711095821291262'],\n",
       "       ['NumAliphaticHeterocycles', '-0.20674839492606803'],\n",
       "       ['fr_aniline', '-0.20287900611939874'],\n",
       "       ['MaxAbsPartialCharge', '-0.19602598743679306'],\n",
       "       ['MinPartialCharge', '0.19602598743679306'],\n",
       "       ['SMR_VSA9', '0.19328264776712803'],\n",
       "       ['fr_Al_OH', '-0.19178187795864002'],\n",
       "       ['EState_VSA9', '0.19150633336571937'],\n",
       "       ['fr_azide', '-0.17523757521811148'],\n",
       "       ['SlogP_VSA11', '-0.16710079642524286'],\n",
       "       ['fr_ketone_Topliss', '0.15978238927901772'],\n",
       "       ['SlogP_VSA6', '-0.15269478696825173'],\n",
       "       ['fr_ketone', '0.14906808351987977'],\n",
       "       ['FpDensityMorgan1', '0.14833498991747915'],\n",
       "       ['EState_VSA1', '0.14271733039950557'],\n",
       "       ['SlogP_VSA4', '0.1419346893250013'],\n",
       "       ['SlogP_VSA3', '0.14155498893316992'],\n",
       "       ['NumSaturatedCarbocycles', '0.14129094674066547'],\n",
       "       ['SMR_VSA7', '-0.13628588617684223'],\n",
       "       ['qed', '0.13156182780126358'],\n",
       "       ['fr_halogen', '0.13011633431643427'],\n",
       "       ['EState_VSA4', '-0.12807923538198085'],\n",
       "       ['SlogP_VSA1', '0.12765809631278185'],\n",
       "       ['PEOE_VSA13', '0.12019315608664675'],\n",
       "       ['VSA_EState1', '0.119155163961823'],\n",
       "       ['fr_NH1', '-0.1181370200618838'],\n",
       "       ['PEOE_VSA6', '0.11789976934544055'],\n",
       "       ['VSA_EState8', '0.11774882325660008'],\n",
       "       ['MinEStateIndex', '-0.11569558522349906'],\n",
       "       ['SMR_VSA3', '-0.11447282902177848'],\n",
       "       ['NumAliphaticCarbocycles', '0.11181459378411436'],\n",
       "       ['EState_VSA7', '-0.11116907312361965'],\n",
       "       ['TPSA', '0.10858678750246017'],\n",
       "       ['fr_amide', '-0.10390011360326033'],\n",
       "       ['fr_NH0', '-0.10354838622823788'],\n",
       "       ['SlogP_VSA10', '-0.10290639144503262'],\n",
       "       ['PEOE_VSA1', '0.10122157150675193'],\n",
       "       ['fr_Ar_NH', '-0.10032706428909145'],\n",
       "       ['fr_Nhpyrrole', '-0.10032706428909145'],\n",
       "       ['HallKierAlpha', '0.09494340972962324'],\n",
       "       ['fr_ester', '-0.08956220827224023'],\n",
       "       ['PEOE_VSA3', '0.08082331722045462'],\n",
       "       ['PEOE_VSA14', '-0.07875503793679761']], dtype='<U32')"
      ]
     },
     "execution_count": 82,
     "metadata": {},
     "output_type": "execute_result"
    }
   ],
   "source": [
    "from sklearn.svm import SVC\n",
    "\n",
    "param_grid = { \n",
    "    'C': np.linspace(0.01, 10, 100)\n",
    " }\n",
    "svm_model = SVC(kernel = 'linear')\n",
    "svm_grid_search = my_grid_search(svm_model, param_grid, X_train_scaled, Y_train, X_test_scaled, Y_test)\n",
    "svm_important_weights = important_features(svm_grid_search.best_estimator_.coef_[0], X.columns, percentage=0.8)\n",
    "svm_important_weights"
   ]
  },
  {
   "cell_type": "code",
   "execution_count": 83,
   "metadata": {},
   "outputs": [
    {
     "name": "stdout",
     "output_type": "stream",
     "text": [
      "{'max_samples': 0.5, 'n_estimators': 50}\n",
      "Train best accuracy: 0.8836781609195402\n",
      "Test accuracy: 0.873015873015873\n"
     ]
    },
    {
     "data": {
      "text/plain": [
       "array([['Kappa1', '0.03857126549801988'],\n",
       "       ['Chi1', '0.03549553472261597'],\n",
       "       ['EState_VSA8', '0.027460582604645106'],\n",
       "       ['LabuteASA', '0.02692281104635348'],\n",
       "       ['PEOE_VSA9', '0.024418734409056838'],\n",
       "       ['Chi1v', '0.024215585602233258'],\n",
       "       ['EState_VSA3', '0.022278979306482788'],\n",
       "       ['Chi2v', '0.0220006117075989'],\n",
       "       ['Chi0n', '0.021782457582906048'],\n",
       "       ['Kappa2', '0.02111930987602531'],\n",
       "       ['Chi2n', '0.019877151249761447'],\n",
       "       ['NHOHCount', '0.019814518792669614'],\n",
       "       ['VSA_EState6', '0.019312830893997893'],\n",
       "       ['MinPartialCharge', '0.01853729919552752'],\n",
       "       ['EState_VSA10', '0.017494754099823758'],\n",
       "       ['HeavyAtomMolWt', '0.01683308872500049'],\n",
       "       ['EState_VSA5', '0.015639318327342975'],\n",
       "       ['NumHeteroatoms', '0.01462907369597661'],\n",
       "       ['NumHAcceptors', '0.014257618803758351'],\n",
       "       ['BertzCT', '0.014077661081180137'],\n",
       "       ['fr_quatN', '0.013120469805671523'],\n",
       "       ['BalabanJ', '0.01302442745984602'],\n",
       "       ['Chi0v', '0.01280306278326366'],\n",
       "       ['SlogP_VSA1', '0.012769585536929653'],\n",
       "       ['SlogP_VSA6', '0.012037891805883296'],\n",
       "       ['Chi1n', '0.011988707999532578'],\n",
       "       ['HeavyAtomCount', '0.011851210802214638'],\n",
       "       ['NumValenceElectrons', '0.011778400041341501'],\n",
       "       ['MinEStateIndex', '0.011475025086846176'],\n",
       "       ['MolLogP', '0.011331450381920731'],\n",
       "       ['NumRotatableBonds', '0.01132340136938791'],\n",
       "       ['Chi3v', '0.0111374920058595'],\n",
       "       ['SMR_VSA1', '0.011008188379385058'],\n",
       "       ['ExactMolWt', '0.010671080348834376'],\n",
       "       ['VSA_EState3', '0.010519531661844541'],\n",
       "       ['MolWt', '0.010292788414059156'],\n",
       "       ['SlogP_VSA5', '0.010288643466434454'],\n",
       "       ['SMR_VSA7', '0.009974729491641254'],\n",
       "       ['MaxPartialCharge', '0.009959768239632296'],\n",
       "       ['PEOE_VSA1', '0.009321056735226659'],\n",
       "       ['NumAromaticRings', '0.009291847623864279'],\n",
       "       ['MinAbsPartialCharge', '0.00918540499746589'],\n",
       "       ['RingCount', '0.009153889957417739'],\n",
       "       ['FractionCSP3', '0.009145526673716065'],\n",
       "       ['MolMR', '0.0091424681534082'],\n",
       "       ['qed', '0.009103964297130666'],\n",
       "       ['VSA_EState4', '0.009045528300832547'],\n",
       "       ['SlogP_VSA2', '0.008612607876480896'],\n",
       "       ['Chi0', '0.008608704810948296'],\n",
       "       ['PEOE_VSA6', '0.008607106295696798'],\n",
       "       ['MinAbsEStateIndex', '0.008501272864803839'],\n",
       "       ['VSA_EState1', '0.007947054555750203'],\n",
       "       ['FpDensityMorgan2', '0.007687019579439474'],\n",
       "       ['fr_benzene', '0.007607568104130827'],\n",
       "       ['VSA_EState2', '0.007288404892950795'],\n",
       "       ['VSA_EState7', '0.007189266963616048'],\n",
       "       ['Kappa3', '0.006796627868557691']], dtype='<U32')"
      ]
     },
     "execution_count": 83,
     "metadata": {},
     "output_type": "execute_result"
    }
   ],
   "source": [
    "from sklearn.ensemble import RandomForestClassifier\n",
    "\n",
    "param_grid = { \n",
    "    'n_estimators': [10, 50, 100, 300],\n",
    "    'max_samples': np.linspace(0.1, 1, 10),\n",
    " }\n",
    "forest_model = RandomForestClassifier(random_state=38, bootstrap=True, oob_score=True, max_features='sqrt')\n",
    "forest_grid_search = my_grid_search(forest_model, param_grid, X_train_scaled, Y_train, X_test_scaled, Y_test)\n",
    "forest_important_weights = important_features(forest_grid_search.best_estimator_.feature_importances_, X.columns, percentage=0.8)\n",
    "forest_important_weights"
   ]
  },
  {
   "cell_type": "code",
   "execution_count": 84,
   "metadata": {},
   "outputs": [
    {
     "name": "stdout",
     "output_type": "stream",
     "text": [
      "{'learning_rate': 0.23111111111111113, 'n_estimators': 200, 'reg_alpha': 0.25, 'reg_lambda': 0.75}\n",
      "Train best accuracy: 0.8845977011494253\n",
      "Test accuracy: 0.9206349206349206\n"
     ]
    },
    {
     "data": {
      "text/plain": [
       "array([['Chi1v', '0.14022422'],\n",
       "       ['MinEStateIndex', '0.0686775'],\n",
       "       ['NHOHCount', '0.06656863'],\n",
       "       ['Chi4v', '0.05977959'],\n",
       "       ['Chi0v', '0.056014348'],\n",
       "       ['PEOE_VSA13', '0.05296244'],\n",
       "       ['fr_quatN', '0.04426705'],\n",
       "       ['SlogP_VSA1', '0.038175546'],\n",
       "       ['BertzCT', '0.03113035'],\n",
       "       ['Kappa2', '0.028623674'],\n",
       "       ['VSA_EState5', '0.027750414'],\n",
       "       ['EState_VSA6', '0.025165722'],\n",
       "       ['fr_halogen', '0.022307053'],\n",
       "       ['Chi2n', '0.020826766'],\n",
       "       ['SMR_VSA10', '0.017681673'],\n",
       "       ['VSA_EState9', '0.015830671'],\n",
       "       ['VSA_EState6', '0.015258721'],\n",
       "       ['PEOE_VSA8', '0.014299616'],\n",
       "       ['SMR_VSA6', '0.012520221'],\n",
       "       ['EState_VSA9', '0.010701415'],\n",
       "       ['Chi1n', '0.010405447'],\n",
       "       ['EState_VSA7', '0.009824617'],\n",
       "       ['NumAliphaticRings', '0.009092718'],\n",
       "       ['VSA_EState4', '0.009068832']], dtype='<U32')"
      ]
     },
     "execution_count": 84,
     "metadata": {},
     "output_type": "execute_result"
    }
   ],
   "source": [
    "from xgboost import XGBClassifier\n",
    "\n",
    "param_grid = {\n",
    "    'n_estimators': [10, 50, 100, 200],\n",
    "    'learning_rate': np.linspace(0.01, 2, 10),\n",
    "    'reg_alpha': np.linspace(0, 1, 5),\n",
    "    'reg_lambda': np.linspace(0, 1, 5),\n",
    "}\n",
    "\n",
    "xgb_model = XGBClassifier(objective='binary:logistic', use_label_encoder=False, eval_metric='logloss', max_depth=3, max_leaves=8, subsample = 0.7, colsample_bynode = 0.7)\n",
    "gb_grid_search = my_grid_search(xgb_model, param_grid, X_train_scaled, Y_train, X_test_scaled, Y_test)\n",
    "gb_important_weights = important_features(gb_grid_search.best_estimator_.feature_importances_, X.columns, percentage=0.8)\n",
    "gb_important_weights"
   ]
  },
  {
   "cell_type": "code",
   "execution_count": 88,
   "metadata": {},
   "outputs": [
    {
     "data": {
      "text/plain": [
       "{'FpDensityMorgan3',\n",
       " 'MaxAbsEStateIndex',\n",
       " 'MaxEStateIndex',\n",
       " 'SMR_VSA3',\n",
       " 'SMR_VSA4',\n",
       " 'VSA_EState4',\n",
       " 'VSA_EState7',\n",
       " 'VSA_EState9',\n",
       " 'fr_ArN',\n",
       " 'fr_Ar_COO',\n",
       " 'fr_NH2',\n",
       " 'fr_azide',\n",
       " 'fr_halogen',\n",
       " 'fr_ketone_Topliss',\n",
       " 'fr_priamide',\n",
       " 'fr_quatN'}"
      ]
     },
     "metadata": {},
     "output_type": "display_data"
    },
    {
     "data": {
      "text/plain": [
       "{'BertzCT',\n",
       " 'Chi0v',\n",
       " 'Chi1n',\n",
       " 'Chi1v',\n",
       " 'Chi2n',\n",
       " 'Kappa2',\n",
       " 'MinEStateIndex',\n",
       " 'NHOHCount',\n",
       " 'SlogP_VSA1',\n",
       " 'VSA_EState4',\n",
       " 'VSA_EState6',\n",
       " 'fr_quatN'}"
      ]
     },
     "metadata": {},
     "output_type": "display_data"
    },
    {
     "data": {
      "text/plain": [
       "{'VSA_EState4', 'fr_quatN'}"
      ]
     },
     "metadata": {},
     "output_type": "display_data"
    }
   ],
   "source": [
    "logistic_important_weights_set = set(logistic_important_weights[:, 0])\n",
    "svm_important_weights_set = set(svm_important_weights[:, 0])\n",
    "forest_important_weights_set = set(forest_important_weights[:, 0])\n",
    "gb_important_weights_set = set(gb_important_weights[:, 0])\n",
    "intersection_logistic_svm = logistic_important_weights_set.intersection(svm_important_weights_set)\n",
    "display(intersection_logistic_svm)\n",
    "\n",
    "intersection_forest_gb = forest_important_weights_set.intersection(gb_important_weights_set)\n",
    "display(intersection_forest_gb)\n",
    "\n",
    "intersection_all = intersection_logistic_svm.intersection(intersection_forest_gb)\n",
    "display(intersection_all)"
   ]
  },
  {
   "cell_type": "code",
   "execution_count": null,
   "metadata": {},
   "outputs": [],
   "source": []
  }
 ],
 "metadata": {
  "kernelspec": {
   "display_name": "Python (molecules2)",
   "language": "python",
   "name": "molecules"
  },
  "language_info": {
   "codemirror_mode": {
    "name": "ipython",
    "version": 3
   },
   "file_extension": ".py",
   "mimetype": "text/x-python",
   "name": "python",
   "nbconvert_exporter": "python",
   "pygments_lexer": "ipython3",
   "version": "3.9.19"
  }
 },
 "nbformat": 4,
 "nbformat_minor": 2
}
