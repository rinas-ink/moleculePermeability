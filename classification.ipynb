{
 "cells": [
  {
   "cell_type": "code",
   "execution_count": 9,
   "metadata": {},
   "outputs": [],
   "source": [
    "import pandas as pd\n",
    "import numpy as np\n",
    "import matplotlib.pyplot as plt"
   ]
  },
  {
   "cell_type": "code",
   "execution_count": 10,
   "metadata": {},
   "outputs": [
    {
     "data": {
      "text/plain": [
       "(209, 204)"
      ]
     },
     "metadata": {},
     "output_type": "display_data"
    }
   ],
   "source": [
    "from sklearn.preprocessing import StandardScaler\n",
    "from sklearn.model_selection import train_test_split\n",
    "\n",
    "molecules = pd.read_csv('molecules_dataset_cleared.csv')\n",
    "display(molecules.shape)\n",
    "X = molecules.drop(columns=['id', 'SMILES', 'SELFIES', 'ACCUMULATION'])\n",
    "Y = (molecules['ACCUMULATION'] > 500).astype(int)\n",
    "\n",
    "def my_train_test_split(test_size=0.3, random_state=35):\n",
    "    X_train, X_test, Y_train, Y_test = train_test_split(X, Y, test_size=test_size, random_state=random_state*569%37)\n",
    "    scaler = StandardScaler()\n",
    "    X_scaled_train = scaler.fit_transform(X_train)\n",
    "    X_scaled_test = scaler.transform(X_test)\n",
    "    return X_scaled_train, X_scaled_test, Y_train, Y_test"
   ]
  },
  {
   "cell_type": "code",
   "execution_count": 11,
   "metadata": {},
   "outputs": [],
   "source": [
    "def print_statistics(scores, non_zero_weights = None):\n",
    "    if non_zero_weights is not None:\n",
    "        union_non_zero_weights = set()\n",
    "        print(\"Non-zero weights count: \", end='')\n",
    "        for weights in non_zero_weights:\n",
    "            print(len(weights), end=' ')\n",
    "            for weight in weights:\n",
    "                union_non_zero_weights.add(weight)\n",
    "        print(f'\\nUnion length: {len(union_non_zero_weights)}')\n",
    "\n",
    "        intersection_non_zero_weights = set(non_zero_weights[0])\n",
    "        for weights in non_zero_weights[1:]:\n",
    "            w = set(weights)\n",
    "            intersection_non_zero_weights = intersection_non_zero_weights.intersection(w)\n",
    "        print(f'Intersection length: {len(intersection_non_zero_weights)}')\n",
    "        print(f'Properties count: {X.shape[1]}')\n",
    "\n",
    "    print('\\nScores: ', end=' ')\n",
    "    for score in scores:\n",
    "        print(f'{score:.3f}', end=' ')\n",
    "    print(f'\\nMean score: {np.mean(scores):.3f}')"
   ]
  },
  {
   "cell_type": "code",
   "execution_count": 12,
   "metadata": {},
   "outputs": [
    {
     "name": "stdout",
     "output_type": "stream",
     "text": [
      "Non-zero weights count: 32 30 28 22 30 24 26 31 31 34 \n",
      "Union length: 77\n",
      "Intersection length: 2\n",
      "Properties count: 200\n",
      "\n",
      "Scores:  0.889 0.873 0.889 0.778 0.889 0.841 0.857 0.778 0.794 0.857 \n",
      "Mean score: 0.844\n"
     ]
    }
   ],
   "source": [
    "from sklearn.linear_model import LogisticRegression\n",
    "\n",
    "scores = []\n",
    "non_zero_weights = []\n",
    "for i in range(0, 10):\n",
    "    X_scaled_train, X_scaled_test, Y_train, Y_test = my_train_test_split(0.3, i)\n",
    "    model = LogisticRegression(solver='liblinear', penalty='l1', C=0.5)\n",
    "    model.fit(X_scaled_train, Y_train)\n",
    "    weights = model.coef_\n",
    "    non_zero_weights.append([col for col, weight in zip(X.columns, weights[0]) if weight != 0])\n",
    "    intercept = model.intercept_\n",
    "    # print(f'Weights: {weights}')\n",
    "    # print(f'Intercept: {intercept}')\n",
    "    scores.append(model.score(X_scaled_test, Y_test))\n",
    "    # print(f'Score: {scores[-1]}')\n",
    "\n",
    "print_statistics(scores, non_zero_weights)"
   ]
  },
  {
   "cell_type": "code",
   "execution_count": 13,
   "metadata": {},
   "outputs": [
    {
     "name": "stdout",
     "output_type": "stream",
     "text": [
      "Non-zero weights count: 170 170 167 170 171 169 170 170 165 172 \n",
      "Union length: 173\n",
      "Intersection length: 158\n",
      "Properties count: 200\n",
      "\n",
      "Scores:  0.905 0.889 0.905 0.825 0.905 0.825 0.889 0.794 0.841 0.905 \n",
      "Mean score: 0.868\n"
     ]
    }
   ],
   "source": [
    "from sklearn.svm import SVC\n",
    "\n",
    "scores = []\n",
    "non_zero_weights = []\n",
    "for i in range(0, 10):\n",
    "    X_scaled_train, X_scaled_test, Y_train, Y_test = my_train_test_split(0.3, i)\n",
    "    model = SVC(C=1, kernel='linear')\n",
    "    model.fit(X_scaled_train, Y_train)\n",
    "    scores.append(model.score(X_scaled_test, Y_test))\n",
    "    weights = model.coef_\n",
    "    non_zero_weights.append([col for col, weight in zip(X.columns, weights[0]) if weight != 0])\n",
    "\n",
    "print_statistics(scores, non_zero_weights)"
   ]
  },
  {
   "cell_type": "code",
   "execution_count": 14,
   "metadata": {},
   "outputs": [
    {
     "name": "stdout",
     "output_type": "stream",
     "text": [
      "\n",
      "Scores:  0.857 0.889 0.873 0.810 0.810 0.794 0.873 0.905 0.841 0.825 \n",
      "Mean score: 0.848\n"
     ]
    }
   ],
   "source": [
    "from sklearn.ensemble import RandomForestClassifier\n",
    "\n",
    "scores = []\n",
    "for i in range(0, 10):\n",
    "    X_scaled_train, X_scaled_test, Y_train, Y_test = my_train_test_split(0.3, i)\n",
    "    model = RandomForestClassifier()\n",
    "    model.fit(X_scaled_train, Y_train)\n",
    "    scores.append(model.score(X_scaled_test, Y_test))\n",
    "    non_zero_weights.append([col for col, weight in zip(X.columns, weights[0]) if weight != 0])\n",
    "\n",
    "print_statistics(scores)"
   ]
  },
  {
   "cell_type": "code",
   "execution_count": null,
   "metadata": {},
   "outputs": [],
   "source": []
  }
 ],
 "metadata": {
  "kernelspec": {
   "display_name": "Python (molecules2)",
   "language": "python",
   "name": "molecules"
  },
  "language_info": {
   "codemirror_mode": {
    "name": "ipython",
    "version": 3
   },
   "file_extension": ".py",
   "mimetype": "text/x-python",
   "name": "python",
   "nbconvert_exporter": "python",
   "pygments_lexer": "ipython3",
   "version": "3.9.19"
  }
 },
 "nbformat": 4,
 "nbformat_minor": 2
}
