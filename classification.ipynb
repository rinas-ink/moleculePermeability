{
 "cells": [
  {
   "cell_type": "code",
   "execution_count": 6,
   "metadata": {},
   "outputs": [],
   "source": [
    "import pandas as pd\n",
    "import numpy as np\n",
    "import matplotlib.pyplot as plt"
   ]
  },
  {
   "cell_type": "code",
   "execution_count": 7,
   "metadata": {},
   "outputs": [
    {
     "data": {
      "text/plain": [
       "(209, 200)"
      ]
     },
     "metadata": {},
     "output_type": "display_data"
    },
    {
     "data": {
      "text/plain": [
       "(209,)"
      ]
     },
     "metadata": {},
     "output_type": "display_data"
    }
   ],
   "source": [
    "from sklearn.preprocessing import StandardScaler\n",
    "from sklearn.model_selection import train_test_split\n",
    "\n",
    "molecules = pd.read_csv('molecules_dataset_cleared.csv')\n",
    "X = molecules.drop(columns=['id', 'SMILES', 'SELFIES', 'ACCUMULATION'])\n",
    "Y = (molecules['ACCUMULATION'] > 500).astype(int)\n",
    "\n",
    "display(X.shape)\n",
    "display(Y.shape)\n",
    "X_train, X_test, Y_train, Y_test = train_test_split(X, Y, test_size=0.3, random_state=91)\n",
    "scaler = StandardScaler()\n",
    "X_train_scaled = scaler.fit_transform(X_train)\n",
    "X_test_scaled = scaler.transform(X_test)"
   ]
  },
  {
   "cell_type": "code",
   "execution_count": 8,
   "metadata": {},
   "outputs": [],
   "source": [
    "from sklearn.model_selection import GridSearchCV\n",
    "\n",
    "def my_grid_search(model, param_grid, X_train, Y_train, X_test, Y_test):\n",
    "    grid_search = GridSearchCV(estimator=model, param_grid=param_grid, cv=5, n_jobs=-1, scoring='accuracy')\n",
    "    grid_search.fit(X_train, Y_train)\n",
    "    print(grid_search.best_params_)\n",
    "    print(f'Train best accuracy: {grid_search.best_score_}')\n",
    "    best_model = grid_search.best_estimator_\n",
    "    print(f'Test accuracy: {best_model.score(X_test, Y_test)}')\n",
    "    return grid_search"
   ]
  },
  {
   "cell_type": "code",
   "execution_count": 9,
   "metadata": {},
   "outputs": [],
   "source": [
    "def important_features(weights, ft_names, percentage=0.9):\n",
    "    non_zero_weights = [[ft_names[i], weights[i]] for i in range(len(weights)) if weights[i] != 0]\n",
    "    total_weight = sum([abs(w[1]) for w in non_zero_weights])\n",
    "    non_zero_weights.sort(key=lambda x: abs(x[1]), reverse=True)\n",
    "    cur_sum = 0\n",
    "    important_weights = []\n",
    "    for w in non_zero_weights:\n",
    "        cur_sum += abs(w[1])\n",
    "        important_weights.append(w)\n",
    "        if cur_sum >= percentage * total_weight:\n",
    "            break\n",
    "    return np.array(important_weights)"
   ]
  },
  {
   "cell_type": "code",
   "execution_count": 10,
   "metadata": {},
   "outputs": [
    {
     "name": "stdout",
     "output_type": "stream",
     "text": [
      "{'C': 1.0, 'penalty': 'l1'}\n",
      "Train best accuracy: 0.9045977011494253\n",
      "Test accuracy: 0.8412698412698413\n"
     ]
    },
    {
     "data": {
      "text/plain": [
       "array([['VSA_EState4', '2.1158226510661007'],\n",
       "       ['VSA_EState9', '-1.353953731979301'],\n",
       "       ['FpDensityMorgan3', '1.1604002451718354'],\n",
       "       ['fr_ArN', '-0.9829364762758019'],\n",
       "       ['fr_priamide', '0.8655383056587539'],\n",
       "       ['fr_Ar_COO', '0.6890276476863252'],\n",
       "       ['VSA_EState7', '-0.6775738393578046'],\n",
       "       ['fr_quatN', '0.6725893441788177'],\n",
       "       ['SMR_VSA4', '0.635220218504794'],\n",
       "       ['fr_ketone_Topliss', '0.6011280502344001'],\n",
       "       ['fr_NH2', '-0.5046400019629055'],\n",
       "       ['fr_azide', '-0.43252087919574184'],\n",
       "       ['fr_halogen', '0.42878237058033664'],\n",
       "       ['MaxEStateIndex', '-0.4035656982260478'],\n",
       "       ['SMR_VSA3', '-0.36644249328355377'],\n",
       "       ['fr_NH0', '-0.35800879604530433']], dtype='<U32')"
      ]
     },
     "execution_count": 10,
     "metadata": {},
     "output_type": "execute_result"
    }
   ],
   "source": [
    "from sklearn.linear_model import LogisticRegression\n",
    "\n",
    "liblinear_param_grid = {\n",
    "    'penalty': ['l1', 'l2'],\n",
    "    'C': np.linspace(0.1, 10, 100)\n",
    " }\n",
    "param_grid = [liblinear_param_grid]\n",
    "logistic_model = LogisticRegression(solver='liblinear')\n",
    "logistic_grid_search = my_grid_search(logistic_model, param_grid, X_train_scaled, Y_train, X_test_scaled, Y_test)\n",
    "logistic_important_weights = important_features(logistic_grid_search.best_estimator_.coef_[0], X.columns, percentage=0.8)\n",
    "logistic_important_weights"
   ]
  },
  {
   "cell_type": "code",
   "execution_count": 11,
   "metadata": {},
   "outputs": [
    {
     "name": "stdout",
     "output_type": "stream",
     "text": [
      "{'C': 0.21181818181818182}\n",
      "Train best accuracy: 0.8705747126436781\n",
      "Test accuracy: 0.8253968253968254\n"
     ]
    },
    {
     "data": {
      "text/plain": [
       "array([['VSA_EState4', '0.7281063564082668'],\n",
       "       ['fr_priamide', '0.44753092311013587'],\n",
       "       ['FpDensityMorgan3', '0.41402227424708127'],\n",
       "       ['fr_NH2', '-0.3965792602335351'],\n",
       "       ['NHOHCount', '0.38177261186826705'],\n",
       "       ['fr_methoxy', '-0.33736697532042303'],\n",
       "       ['fr_Ar_COO', '0.33088386883461485'],\n",
       "       ['fr_quatN', '0.32346232698192007'],\n",
       "       ['fr_ArN', '-0.3215890915166288'],\n",
       "       ['FpDensityMorgan2', '0.3059444107535855'],\n",
       "       ['MaxAbsEStateIndex', '-0.29410921141170276'],\n",
       "       ['MaxEStateIndex', '-0.29410921141170276'],\n",
       "       ['VSA_EState7', '-0.26288676433146974'],\n",
       "       ['PEOE_VSA8', '-0.2610344158832696'],\n",
       "       ['FractionCSP3', '-0.2561401751584095'],\n",
       "       ['SMR_VSA4', '0.23882699071440755'],\n",
       "       ['SlogP_VSA8', '0.23486510391883475'],\n",
       "       ['fr_piperzine', '0.2347812185265488'],\n",
       "       ['NumSaturatedHeterocycles', '-0.22568544818583688'],\n",
       "       ['fr_allylic_oxid', '-0.2216692701290928'],\n",
       "       ['VSA_EState9', '-0.22032209461772007'],\n",
       "       ['VSA_EState3', '-0.21711095821291185'],\n",
       "       ['NumAliphaticHeterocycles', '-0.20674839492606786'],\n",
       "       ['fr_aniline', '-0.20287900611939857'],\n",
       "       ['MaxAbsPartialCharge', '-0.1960259874367937'],\n",
       "       ['MinPartialCharge', '0.1960259874367937'],\n",
       "       ['SMR_VSA9', '0.19328264776712825'],\n",
       "       ['fr_Al_OH', '-0.19178187795863952'],\n",
       "       ['EState_VSA9', '0.19150633336571923'],\n",
       "       ['fr_azide', '-0.17523757521811148'],\n",
       "       ['SlogP_VSA11', '-0.1671007964252429'],\n",
       "       ['fr_ketone_Topliss', '0.15978238927901803'],\n",
       "       ['SlogP_VSA6', '-0.15269478696825206'],\n",
       "       ['fr_ketone', '0.14906808351988027'],\n",
       "       ['FpDensityMorgan1', '0.14833498991747773'],\n",
       "       ['EState_VSA1', '0.14271733039950513'],\n",
       "       ['SlogP_VSA4', '0.14193468932500053'],\n",
       "       ['SlogP_VSA3', '0.14155498893317092'],\n",
       "       ['NumSaturatedCarbocycles', '0.14129094674066567'],\n",
       "       ['SMR_VSA7', '-0.13628588617684234'],\n",
       "       ['qed', '0.13156182780126402'],\n",
       "       ['fr_halogen', '0.13011633431643455'],\n",
       "       ['EState_VSA4', '-0.12807923538198157'],\n",
       "       ['SlogP_VSA1', '0.1276580963127817'],\n",
       "       ['PEOE_VSA13', '0.1201931560866463'],\n",
       "       ['VSA_EState1', '0.11915516396182271'],\n",
       "       ['fr_NH1', '-0.11813702006188409'],\n",
       "       ['PEOE_VSA6', '0.11789976934544026'],\n",
       "       ['VSA_EState8', '0.11774882325660035'],\n",
       "       ['MinEStateIndex', '-0.11569558522349871'],\n",
       "       ['SMR_VSA3', '-0.11447282902177863'],\n",
       "       ['NumAliphaticCarbocycles', '0.11181459378411406'],\n",
       "       ['EState_VSA7', '-0.1111690731236199'],\n",
       "       ['TPSA', '0.10858678750246023'],\n",
       "       ['fr_amide', '-0.1039001136032604'],\n",
       "       ['fr_NH0', '-0.10354838622823767'],\n",
       "       ['SlogP_VSA10', '-0.1029063914450325'],\n",
       "       ['PEOE_VSA1', '0.10122157150675204'],\n",
       "       ['fr_Ar_NH', '-0.10032706428909136'],\n",
       "       ['fr_Nhpyrrole', '-0.10032706428909136'],\n",
       "       ['HallKierAlpha', '0.09494340972962323'],\n",
       "       ['fr_ester', '-0.0895622082722406'],\n",
       "       ['PEOE_VSA3', '0.08082331722045426'],\n",
       "       ['PEOE_VSA14', '-0.07875503793679767']], dtype='<U32')"
      ]
     },
     "execution_count": 11,
     "metadata": {},
     "output_type": "execute_result"
    }
   ],
   "source": [
    "from sklearn.svm import SVC\n",
    "\n",
    "param_grid = { \n",
    "    'C': np.linspace(0.01, 10, 100)\n",
    " }\n",
    "svm_model = SVC(kernel = 'linear')\n",
    "svm_grid_search = my_grid_search(svm_model, param_grid, X_train_scaled, Y_train, X_test_scaled, Y_test)\n",
    "svm_important_weights = important_features(svm_grid_search.best_estimator_.coef_[0], X.columns, percentage=0.8)\n",
    "svm_important_weights"
   ]
  },
  {
   "cell_type": "code",
   "execution_count": 12,
   "metadata": {},
   "outputs": [
    {
     "name": "stderr",
     "output_type": "stream",
     "text": [
      "/home/coder/.conda/envs/molecules/lib/python3.8/site-packages/sklearn/ensemble/_forest.py:578: UserWarning: Some inputs do not have OOB scores. This probably means too few trees were used to compute any reliable OOB estimates.\n",
      "  warn(\n",
      "/home/coder/.conda/envs/molecules/lib/python3.8/site-packages/sklearn/ensemble/_forest.py:578: UserWarning: Some inputs do not have OOB scores. This probably means too few trees were used to compute any reliable OOB estimates.\n",
      "  warn(\n",
      "/home/coder/.conda/envs/molecules/lib/python3.8/site-packages/sklearn/ensemble/_forest.py:578: UserWarning: Some inputs do not have OOB scores. This probably means too few trees were used to compute any reliable OOB estimates.\n",
      "  warn(\n",
      "/home/coder/.conda/envs/molecules/lib/python3.8/site-packages/sklearn/ensemble/_forest.py:578: UserWarning: Some inputs do not have OOB scores. This probably means too few trees were used to compute any reliable OOB estimates.\n",
      "  warn(\n",
      "/home/coder/.conda/envs/molecules/lib/python3.8/site-packages/sklearn/ensemble/_forest.py:578: UserWarning: Some inputs do not have OOB scores. This probably means too few trees were used to compute any reliable OOB estimates.\n",
      "  warn(\n",
      "/home/coder/.conda/envs/molecules/lib/python3.8/site-packages/sklearn/ensemble/_forest.py:578: UserWarning: Some inputs do not have OOB scores. This probably means too few trees were used to compute any reliable OOB estimates.\n",
      "  warn(\n",
      "/home/coder/.conda/envs/molecules/lib/python3.8/site-packages/sklearn/ensemble/_forest.py:578: UserWarning: Some inputs do not have OOB scores. This probably means too few trees were used to compute any reliable OOB estimates.\n",
      "  warn(\n",
      "/home/coder/.conda/envs/molecules/lib/python3.8/site-packages/sklearn/ensemble/_forest.py:578: UserWarning: Some inputs do not have OOB scores. This probably means too few trees were used to compute any reliable OOB estimates.\n",
      "  warn(\n",
      "/home/coder/.conda/envs/molecules/lib/python3.8/site-packages/sklearn/ensemble/_forest.py:578: UserWarning: Some inputs do not have OOB scores. This probably means too few trees were used to compute any reliable OOB estimates.\n",
      "  warn(\n",
      "/home/coder/.conda/envs/molecules/lib/python3.8/site-packages/sklearn/ensemble/_forest.py:578: UserWarning: Some inputs do not have OOB scores. This probably means too few trees were used to compute any reliable OOB estimates.\n",
      "  warn(\n"
     ]
    },
    {
     "name": "stdout",
     "output_type": "stream",
     "text": [
      "{'max_samples': 0.5, 'n_estimators': 50}\n",
      "Train best accuracy: 0.8836781609195402\n",
      "Test accuracy: 0.873015873015873\n"
     ]
    },
    {
     "data": {
      "text/plain": [
       "array([['Kappa1', '0.03857126549801988'],\n",
       "       ['Chi1', '0.03549553472261597'],\n",
       "       ['EState_VSA8', '0.027460582604645106'],\n",
       "       ['LabuteASA', '0.02692281104635348'],\n",
       "       ['PEOE_VSA9', '0.024418734409056838'],\n",
       "       ['Chi1v', '0.024215585602233258'],\n",
       "       ['EState_VSA3', '0.022278979306482788'],\n",
       "       ['Chi2v', '0.0220006117075989'],\n",
       "       ['Chi0n', '0.021782457582906048'],\n",
       "       ['Kappa2', '0.02111930987602531'],\n",
       "       ['Chi2n', '0.019877151249761447'],\n",
       "       ['NHOHCount', '0.019814518792669614'],\n",
       "       ['VSA_EState6', '0.019312830893997893'],\n",
       "       ['MinPartialCharge', '0.01853729919552752'],\n",
       "       ['EState_VSA10', '0.017494754099823758'],\n",
       "       ['HeavyAtomMolWt', '0.01683308872500049'],\n",
       "       ['EState_VSA5', '0.015639318327342975'],\n",
       "       ['NumHeteroatoms', '0.01462907369597661'],\n",
       "       ['NumHAcceptors', '0.014257618803758351'],\n",
       "       ['BertzCT', '0.014077661081180137'],\n",
       "       ['fr_quatN', '0.013120469805671523'],\n",
       "       ['BalabanJ', '0.01302442745984602'],\n",
       "       ['Chi0v', '0.01280306278326366'],\n",
       "       ['SlogP_VSA1', '0.012769585536929653'],\n",
       "       ['SlogP_VSA6', '0.012037891805883296'],\n",
       "       ['Chi1n', '0.011988707999532578'],\n",
       "       ['HeavyAtomCount', '0.011851210802214638'],\n",
       "       ['NumValenceElectrons', '0.011778400041341501'],\n",
       "       ['MinEStateIndex', '0.011475025086846176'],\n",
       "       ['MolLogP', '0.011331450381920731'],\n",
       "       ['NumRotatableBonds', '0.01132340136938791'],\n",
       "       ['Chi3v', '0.0111374920058595'],\n",
       "       ['SMR_VSA1', '0.011008188379385058'],\n",
       "       ['ExactMolWt', '0.010671080348834376'],\n",
       "       ['VSA_EState3', '0.010519531661844541'],\n",
       "       ['MolWt', '0.010292788414059156'],\n",
       "       ['SlogP_VSA5', '0.010288643466434454'],\n",
       "       ['SMR_VSA7', '0.009974729491641254'],\n",
       "       ['MaxPartialCharge', '0.009959768239632296'],\n",
       "       ['PEOE_VSA1', '0.009321056735226659'],\n",
       "       ['NumAromaticRings', '0.009291847623864279'],\n",
       "       ['MinAbsPartialCharge', '0.00918540499746589'],\n",
       "       ['RingCount', '0.009153889957417739'],\n",
       "       ['FractionCSP3', '0.009145526673716065'],\n",
       "       ['MolMR', '0.0091424681534082'],\n",
       "       ['qed', '0.009103964297130666'],\n",
       "       ['VSA_EState4', '0.009045528300832547'],\n",
       "       ['SlogP_VSA2', '0.008612607876480896'],\n",
       "       ['Chi0', '0.008608704810948296'],\n",
       "       ['PEOE_VSA6', '0.008607106295696798'],\n",
       "       ['MinAbsEStateIndex', '0.008501272864803839'],\n",
       "       ['VSA_EState1', '0.007947054555750203'],\n",
       "       ['FpDensityMorgan2', '0.007687019579439474'],\n",
       "       ['fr_benzene', '0.007607568104130827'],\n",
       "       ['VSA_EState2', '0.007288404892950795'],\n",
       "       ['VSA_EState7', '0.007189266963616048'],\n",
       "       ['Kappa3', '0.006796627868557691']], dtype='<U32')"
      ]
     },
     "execution_count": 12,
     "metadata": {},
     "output_type": "execute_result"
    }
   ],
   "source": [
    "from sklearn.ensemble import RandomForestClassifier\n",
    "\n",
    "param_grid = { \n",
    "    'n_estimators': [10, 50, 100, 300],\n",
    "    'max_samples': np.linspace(0.1, 1, 10),\n",
    " }\n",
    "forest_model = RandomForestClassifier(random_state=38, bootstrap=True, oob_score=True, max_features='sqrt')\n",
    "forest_grid_search = my_grid_search(forest_model, param_grid, X_train_scaled, Y_train, X_test_scaled, Y_test)\n",
    "forest_important_weights = important_features(forest_grid_search.best_estimator_.feature_importances_, X.columns, percentage=0.8)\n",
    "forest_important_weights"
   ]
  },
  {
   "cell_type": "code",
   "execution_count": 13,
   "metadata": {},
   "outputs": [
    {
     "name": "stdout",
     "output_type": "stream",
     "text": [
      "{'learning_rate': 0.23111111111111113, 'n_estimators': 10, 'reg_alpha': 0.75, 'reg_lambda': 0.0}\n",
      "Train best accuracy: 0.8839080459770117\n",
      "Test accuracy: 0.9365079365079365\n"
     ]
    },
    {
     "data": {
      "text/plain": [
       "array([['MinEStateIndex', '0.114264525'],\n",
       "       ['Chi1', '0.10593105'],\n",
       "       ['Kappa2', '0.08011054'],\n",
       "       ['EState_VSA3', '0.053387117'],\n",
       "       ['SMR_VSA7', '0.052988943'],\n",
       "       ['NHOHCount', '0.052649867'],\n",
       "       ['Chi0v', '0.043448832'],\n",
       "       ['PEOE_VSA8', '0.04148734'],\n",
       "       ['SlogP_VSA1', '0.0363599'],\n",
       "       ['VSA_EState9', '0.032875553'],\n",
       "       ['VSA_EState4', '0.03234256'],\n",
       "       ['Chi4v', '0.0317564'],\n",
       "       ['qed', '0.029430768'],\n",
       "       ['fr_quatN', '0.02651104'],\n",
       "       ['MolLogP', '0.022995561'],\n",
       "       ['SlogP_VSA4', '0.02187782'],\n",
       "       ['MaxAbsEStateIndex', '0.021279952'],\n",
       "       ['PEOE_VSA10', '0.020244898']], dtype='<U32')"
      ]
     },
     "execution_count": 13,
     "metadata": {},
     "output_type": "execute_result"
    }
   ],
   "source": [
    "from xgboost import XGBClassifier\n",
    "\n",
    "param_grid = {\n",
    "    'n_estimators': [10, 50, 100, 200],\n",
    "    'learning_rate': np.linspace(0.01, 2, 10),\n",
    "    'reg_alpha': np.linspace(0, 1, 5),\n",
    "    'reg_lambda': np.linspace(0, 1, 5),\n",
    "}\n",
    "\n",
    "xgb_model = XGBClassifier(objective='binary:logistic', use_label_encoder=False, eval_metric='logloss', max_depth=3, max_leaves=8, subsample = 0.7, colsample_bynode = 0.7)\n",
    "gb_grid_search = my_grid_search(xgb_model, param_grid, X_train_scaled, Y_train, X_test_scaled, Y_test)\n",
    "gb_important_weights = important_features(gb_grid_search.best_estimator_.feature_importances_, X.columns, percentage=0.8)\n",
    "gb_important_weights"
   ]
  },
  {
   "cell_type": "code",
   "execution_count": 14,
   "metadata": {},
   "outputs": [
    {
     "data": {
      "text/plain": [
       "{'FpDensityMorgan3',\n",
       " 'MaxEStateIndex',\n",
       " 'SMR_VSA3',\n",
       " 'SMR_VSA4',\n",
       " 'VSA_EState4',\n",
       " 'VSA_EState7',\n",
       " 'VSA_EState9',\n",
       " 'fr_ArN',\n",
       " 'fr_Ar_COO',\n",
       " 'fr_NH0',\n",
       " 'fr_NH2',\n",
       " 'fr_azide',\n",
       " 'fr_halogen',\n",
       " 'fr_ketone_Topliss',\n",
       " 'fr_priamide',\n",
       " 'fr_quatN'}"
      ]
     },
     "metadata": {},
     "output_type": "display_data"
    },
    {
     "data": {
      "text/plain": [
       "{'Chi0v',\n",
       " 'Chi1',\n",
       " 'EState_VSA3',\n",
       " 'Kappa2',\n",
       " 'MinEStateIndex',\n",
       " 'MolLogP',\n",
       " 'NHOHCount',\n",
       " 'SMR_VSA7',\n",
       " 'SlogP_VSA1',\n",
       " 'VSA_EState4',\n",
       " 'fr_quatN',\n",
       " 'qed'}"
      ]
     },
     "metadata": {},
     "output_type": "display_data"
    },
    {
     "data": {
      "text/plain": [
       "{'VSA_EState4', 'fr_quatN'}"
      ]
     },
     "metadata": {},
     "output_type": "display_data"
    }
   ],
   "source": [
    "logistic_important_weights_set = set(logistic_important_weights[:, 0])\n",
    "svm_important_weights_set = set(svm_important_weights[:, 0])\n",
    "forest_important_weights_set = set(forest_important_weights[:, 0])\n",
    "gb_important_weights_set = set(gb_important_weights[:, 0])\n",
    "intersection_logistic_svm = logistic_important_weights_set.intersection(svm_important_weights_set)\n",
    "display(intersection_logistic_svm)\n",
    "\n",
    "intersection_forest_gb = forest_important_weights_set.intersection(gb_important_weights_set)\n",
    "display(intersection_forest_gb)\n",
    "\n",
    "intersection_all = intersection_logistic_svm.intersection(intersection_forest_gb)\n",
    "display(intersection_all)"
   ]
  },
  {
   "cell_type": "code",
   "execution_count": null,
   "metadata": {},
   "outputs": [],
   "source": []
  }
 ],
 "metadata": {
  "kernelspec": {
   "display_name": "Python (molecules2)",
   "language": "python",
   "name": "molecules"
  },
  "language_info": {
   "codemirror_mode": {
    "name": "ipython",
    "version": 3
   },
   "file_extension": ".py",
   "mimetype": "text/x-python",
   "name": "python",
   "nbconvert_exporter": "python",
   "pygments_lexer": "ipython3",
   "version": "3.8.19"
  }
 },
 "nbformat": 4,
 "nbformat_minor": 2
}
