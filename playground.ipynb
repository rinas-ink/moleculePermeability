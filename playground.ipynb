{
 "cells": [
  {
   "cell_type": "code",
   "execution_count": 3,
   "metadata": {},
   "outputs": [],
   "source": [
    "import pandas as pd\n",
    "import matplotlib.pyplot as plt"
   ]
  },
  {
   "cell_type": "code",
   "execution_count": 4,
   "metadata": {},
   "outputs": [],
   "source": [
    "molecules = pd.read_csv('molecules_dataset.csv')"
   ]
  },
  {
   "cell_type": "code",
   "execution_count": 5,
   "metadata": {},
   "outputs": [
    {
     "name": "stdout",
     "output_type": "stream",
     "text": [
      "(232, 205)\n"
     ]
    }
   ],
   "source": [
    "print(molecules.shape)\n",
    "molecules.dtypes\n",
    "molecules.columns = ['id'] + molecules.columns[1:].tolist()"
   ]
  },
  {
   "cell_type": "code",
   "execution_count": 6,
   "metadata": {},
   "outputs": [
    {
     "data": {
      "text/html": [
       "<div>\n",
       "<style scoped>\n",
       "    .dataframe tbody tr th:only-of-type {\n",
       "        vertical-align: middle;\n",
       "    }\n",
       "\n",
       "    .dataframe tbody tr th {\n",
       "        vertical-align: top;\n",
       "    }\n",
       "\n",
       "    .dataframe thead th {\n",
       "        text-align: right;\n",
       "    }\n",
       "</style>\n",
       "<table border=\"1\" class=\"dataframe\">\n",
       "  <thead>\n",
       "    <tr style=\"text-align: right;\">\n",
       "      <th></th>\n",
       "      <th>id</th>\n",
       "      <th>SMILES</th>\n",
       "      <th>SELFIES</th>\n",
       "      <th>BalabanJ</th>\n",
       "      <th>BertzCT</th>\n",
       "      <th>Chi0</th>\n",
       "      <th>Chi0n</th>\n",
       "      <th>Chi0v</th>\n",
       "      <th>Chi1</th>\n",
       "      <th>Chi1n</th>\n",
       "      <th>...</th>\n",
       "      <th>fr_term_acetylene</th>\n",
       "      <th>fr_tetrazole</th>\n",
       "      <th>fr_thiazole</th>\n",
       "      <th>fr_thiocyan</th>\n",
       "      <th>fr_thiophene</th>\n",
       "      <th>fr_unbrch_alkane</th>\n",
       "      <th>fr_urea</th>\n",
       "      <th>qed</th>\n",
       "      <th>img_file</th>\n",
       "      <th>ACCUMULATION</th>\n",
       "    </tr>\n",
       "  </thead>\n",
       "  <tbody>\n",
       "    <tr>\n",
       "      <th>0</th>\n",
       "      <td>0</td>\n",
       "      <td>CC1([C@@H](N2[C@H](S1)[C@@H](C2=O)NC(=O)[C@@H]...</td>\n",
       "      <td>[C][C][Branch2][Ring2][=Branch2][C@@H1][Branch...</td>\n",
       "      <td>1.711293</td>\n",
       "      <td>693.822755</td>\n",
       "      <td>17.645900</td>\n",
       "      <td>13.300923</td>\n",
       "      <td>14.117420</td>\n",
       "      <td>11.236888</td>\n",
       "      <td>7.575211</td>\n",
       "      <td>...</td>\n",
       "      <td>0</td>\n",
       "      <td>0</td>\n",
       "      <td>0</td>\n",
       "      <td>0</td>\n",
       "      <td>0</td>\n",
       "      <td>0</td>\n",
       "      <td>0</td>\n",
       "      <td>0.674878</td>\n",
       "      <td>./IMAGES/ampicillin.png</td>\n",
       "      <td>45</td>\n",
       "    </tr>\n",
       "    <tr>\n",
       "      <th>1</th>\n",
       "      <td>1</td>\n",
       "      <td>C1=C[C@@]23[C@@H]([C@@]([C@H]1O)(C(=O)O2)C)[C@...</td>\n",
       "      <td>[C][=C][C@@][C@@H1][Branch2][Ring1][C][C@@][Br...</td>\n",
       "      <td>1.749891</td>\n",
       "      <td>703.480357</td>\n",
       "      <td>17.120956</td>\n",
       "      <td>14.124773</td>\n",
       "      <td>14.124773</td>\n",
       "      <td>11.244454</td>\n",
       "      <td>9.052721</td>\n",
       "      <td>...</td>\n",
       "      <td>0</td>\n",
       "      <td>0</td>\n",
       "      <td>0</td>\n",
       "      <td>0</td>\n",
       "      <td>0</td>\n",
       "      <td>0</td>\n",
       "      <td>0</td>\n",
       "      <td>0.471682</td>\n",
       "      <td>./IMAGES/mol127.png</td>\n",
       "      <td>309</td>\n",
       "    </tr>\n",
       "    <tr>\n",
       "      <th>2</th>\n",
       "      <td>2</td>\n",
       "      <td>C[C@H]1[C@@H]2CC[C@@]3(C)[C@@H]([C@@H](C[C@H]4...</td>\n",
       "      <td>[C][C@H1][C@@H1][C][C][C@@][Branch1][C][C][C@@...</td>\n",
       "      <td>1.820500</td>\n",
       "      <td>993.657272</td>\n",
       "      <td>27.499271</td>\n",
       "      <td>23.842042</td>\n",
       "      <td>23.842042</td>\n",
       "      <td>17.169081</td>\n",
       "      <td>14.299859</td>\n",
       "      <td>...</td>\n",
       "      <td>0</td>\n",
       "      <td>0</td>\n",
       "      <td>0</td>\n",
       "      <td>0</td>\n",
       "      <td>0</td>\n",
       "      <td>0</td>\n",
       "      <td>0</td>\n",
       "      <td>0.247222</td>\n",
       "      <td>./IMAGES/fusidic_acid.png</td>\n",
       "      <td>52</td>\n",
       "    </tr>\n",
       "  </tbody>\n",
       "</table>\n",
       "<p>3 rows × 205 columns</p>\n",
       "</div>"
      ],
      "text/plain": [
       "   id                                             SMILES  \\\n",
       "0   0  CC1([C@@H](N2[C@H](S1)[C@@H](C2=O)NC(=O)[C@@H]...   \n",
       "1   1  C1=C[C@@]23[C@@H]([C@@]([C@H]1O)(C(=O)O2)C)[C@...   \n",
       "2   2  C[C@H]1[C@@H]2CC[C@@]3(C)[C@@H]([C@@H](C[C@H]4...   \n",
       "\n",
       "                                             SELFIES  BalabanJ     BertzCT  \\\n",
       "0  [C][C][Branch2][Ring2][=Branch2][C@@H1][Branch...  1.711293  693.822755   \n",
       "1  [C][=C][C@@][C@@H1][Branch2][Ring1][C][C@@][Br...  1.749891  703.480357   \n",
       "2  [C][C@H1][C@@H1][C][C][C@@][Branch1][C][C][C@@...  1.820500  993.657272   \n",
       "\n",
       "        Chi0      Chi0n      Chi0v       Chi1      Chi1n  ...  \\\n",
       "0  17.645900  13.300923  14.117420  11.236888   7.575211  ...   \n",
       "1  17.120956  14.124773  14.124773  11.244454   9.052721  ...   \n",
       "2  27.499271  23.842042  23.842042  17.169081  14.299859  ...   \n",
       "\n",
       "   fr_term_acetylene  fr_tetrazole  fr_thiazole  fr_thiocyan  fr_thiophene  \\\n",
       "0                  0             0            0            0             0   \n",
       "1                  0             0            0            0             0   \n",
       "2                  0             0            0            0             0   \n",
       "\n",
       "   fr_unbrch_alkane  fr_urea       qed                   img_file  \\\n",
       "0                 0        0  0.674878    ./IMAGES/ampicillin.png   \n",
       "1                 0        0  0.471682        ./IMAGES/mol127.png   \n",
       "2                 0        0  0.247222  ./IMAGES/fusidic_acid.png   \n",
       "\n",
       "   ACCUMULATION  \n",
       "0            45  \n",
       "1           309  \n",
       "2            52  \n",
       "\n",
       "[3 rows x 205 columns]"
      ]
     },
     "execution_count": 6,
     "metadata": {},
     "output_type": "execute_result"
    }
   ],
   "source": [
    "molecules.head(3)"
   ]
  },
  {
   "cell_type": "code",
   "execution_count": 7,
   "metadata": {},
   "outputs": [
    {
     "data": {
      "text/plain": [
       "id                   True\n",
       "SMILES              False\n",
       "SELFIES             False\n",
       "BalabanJ            False\n",
       "BertzCT             False\n",
       "                    ...  \n",
       "fr_unbrch_alkane    False\n",
       "fr_urea             False\n",
       "qed                 False\n",
       "img_file             True\n",
       "ACCUMULATION        False\n",
       "Length: 205, dtype: bool"
      ]
     },
     "execution_count": 7,
     "metadata": {},
     "output_type": "execute_result"
    }
   ],
   "source": [
    "molecules.nunique() == molecules.shape[0]"
   ]
  },
  {
   "cell_type": "code",
   "execution_count": null,
   "metadata": {},
   "outputs": [],
   "source": []
  },
  {
   "cell_type": "code",
   "execution_count": 16,
   "metadata": {},
   "outputs": [
    {
     "ename": "AttributeError",
     "evalue": "'DataFrame' object has no attribute 'dublicated'",
     "output_type": "error",
     "traceback": [
      "\u001b[0;31m---------------------------------------------------------------------------\u001b[0m",
      "\u001b[0;31mAttributeError\u001b[0m                            Traceback (most recent call last)",
      "\u001b[0;32m~/tmp/ipykernel_26176/2849257056.py\u001b[0m in \u001b[0;36m?\u001b[0;34m()\u001b[0m\n\u001b[0;32m----> 1\u001b[0;31m \u001b[0mmolecules\u001b[0m\u001b[0;34m[\u001b[0m\u001b[0mmolecules\u001b[0m\u001b[0;34m.\u001b[0m\u001b[0mdublicated\u001b[0m\u001b[0;34m(\u001b[0m\u001b[0;34m'SMILES'\u001b[0m\u001b[0;34m,\u001b[0m \u001b[0mkeep\u001b[0m\u001b[0;34m=\u001b[0m\u001b[0;32mFalse\u001b[0m\u001b[0;34m)\u001b[0m\u001b[0;34m]\u001b[0m\u001b[0;34m\u001b[0m\u001b[0;34m\u001b[0m\u001b[0m\n\u001b[0m",
      "\u001b[0;32m/usr/local/lib/python3.8/dist-packages/pandas/core/generic.py\u001b[0m in \u001b[0;36m?\u001b[0;34m(self, name)\u001b[0m\n\u001b[1;32m   5985\u001b[0m             \u001b[0;32mand\u001b[0m \u001b[0mname\u001b[0m \u001b[0;32mnot\u001b[0m \u001b[0;32min\u001b[0m \u001b[0mself\u001b[0m\u001b[0;34m.\u001b[0m\u001b[0m_accessors\u001b[0m\u001b[0;34m\u001b[0m\u001b[0;34m\u001b[0m\u001b[0m\n\u001b[1;32m   5986\u001b[0m             \u001b[0;32mand\u001b[0m \u001b[0mself\u001b[0m\u001b[0;34m.\u001b[0m\u001b[0m_info_axis\u001b[0m\u001b[0;34m.\u001b[0m\u001b[0m_can_hold_identifiers_and_holds_name\u001b[0m\u001b[0;34m(\u001b[0m\u001b[0mname\u001b[0m\u001b[0;34m)\u001b[0m\u001b[0;34m\u001b[0m\u001b[0;34m\u001b[0m\u001b[0m\n\u001b[1;32m   5987\u001b[0m         ):\n\u001b[1;32m   5988\u001b[0m             \u001b[0;32mreturn\u001b[0m \u001b[0mself\u001b[0m\u001b[0;34m[\u001b[0m\u001b[0mname\u001b[0m\u001b[0;34m]\u001b[0m\u001b[0;34m\u001b[0m\u001b[0;34m\u001b[0m\u001b[0m\n\u001b[0;32m-> 5989\u001b[0;31m         \u001b[0;32mreturn\u001b[0m \u001b[0mobject\u001b[0m\u001b[0;34m.\u001b[0m\u001b[0m__getattribute__\u001b[0m\u001b[0;34m(\u001b[0m\u001b[0mself\u001b[0m\u001b[0;34m,\u001b[0m \u001b[0mname\u001b[0m\u001b[0;34m)\u001b[0m\u001b[0;34m\u001b[0m\u001b[0;34m\u001b[0m\u001b[0m\n\u001b[0m",
      "\u001b[0;31mAttributeError\u001b[0m: 'DataFrame' object has no attribute 'dublicated'"
     ]
    }
   ],
   "source": [
    "molecules.groupby()"
   ]
  },
  {
   "cell_type": "code",
   "execution_count": null,
   "metadata": {},
   "outputs": [],
   "source": []
  }
 ],
 "metadata": {
  "kernelspec": {
   "display_name": "Python 3",
   "language": "python",
   "name": "python3"
  },
  "language_info": {
   "codemirror_mode": {
    "name": "ipython",
    "version": 3
   },
   "file_extension": ".py",
   "mimetype": "text/x-python",
   "name": "python",
   "nbconvert_exporter": "python",
   "pygments_lexer": "ipython3",
   "version": "3.8.10"
  }
 },
 "nbformat": 4,
 "nbformat_minor": 2
}
